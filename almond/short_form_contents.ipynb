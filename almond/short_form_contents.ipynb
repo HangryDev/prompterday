{
 "cells": [
  {
   "cell_type": "markdown",
   "id": "4bd91e89",
   "metadata": {},
   "source": [
    "# short_form_contents\n",
    "- 기능 : 외부에서 받아왔다고 가정한 짧은글(text변수값) 을 기반으로 3가지 분석\n",
    "- 실제 적용해야 할 부분 2가지 : 외부 글 받아오기, 외부에서 받아온 글 기반으로 3가지 분석 프롬프트"
   ]
  },
  {
   "cell_type": "code",
   "execution_count": 1,
   "id": "28520259",
   "metadata": {
    "height": 319
   },
   "outputs": [],
   "source": [
    "import os\n",
    "import openai\n",
    "import sys\n",
    "from dotenv import load_dotenv, find_dotenv\n",
    "_ = load_dotenv(find_dotenv())\n",
    "\n",
    "openai.api_key  = os.environ['OPENAI_API_KEY']\n",
    "\n",
    "def get_completion_from_messages(messages, \n",
    "                                 model=\"gpt-3.5-turbo\", \n",
    "                                 temperature=0, max_tokens=1000):\n",
    "    response = openai.ChatCompletion.create(\n",
    "        model=model,\n",
    "        messages=messages,\n",
    "        temperature=temperature, \n",
    "        max_tokens=max_tokens, \n",
    "    )\n",
    "    return response.choices[0].message[\"content\"], response"
   ]
  },
  {
   "cell_type": "code",
   "execution_count": 2,
   "id": "c5fdbc69",
   "metadata": {
    "height": 319
   },
   "outputs": [],
   "source": [
    "text = \"\"\"\n",
    "\n",
    "# (21/100) 아모르파티\n",
    "\n",
    "아침에 일어나 자전거를 타고 합정역을 향하던 중, 전국 노래자랑을 한다는 족자현수막을 보았다. 송해 선생님 대신 김신영이 MC를 맡아 진행하는 걸 알리듯 한쪽 그의 얼굴이 한쪽에 크게 프린트되어있었다. 오른쪽엔 초대가수 몇 명의 사진이 올라와있었는데, 가장 처음에 있던 사람의 얼굴이 가수 김연자였다. \n",
    "\n",
    "아! 아모르 파티, 오랜만에 한번 들어볼까?\n",
    "\n",
    "하고 아모르 파티 노래를 틀었다. 오랜만에 들으니 가사가 더 선명하게 들어왔다. \n",
    "\n",
    "“산다는게 다 그런거지. 누구나 빈손으로 와. 소설같은 한 편의 얘기들을 세상에 뿌리고 살지.” 라는 가사가 제대로 들렸던 건 오늘이 처음이었다. 산다는게~ 하고 흥얼흥얼 소리만 들으며 ‘아모르파티’ 라는 가사가 나오기만을 기다리곤 했는데 이번은 좀 달랐다. 누구나 빈손으로 온다는 이야기, 그리고 자기 만의 인생을 세상에 뿌리고 산다는 표현이 낯설게 느껴졌다. 어쩜 이런 가사를 쓸까 싶어 마음속 환호성도 질렀다. \n",
    "\n",
    "그렇게 아모르파티를 외치며 하루를 보내다, 회사 동료의 어머니 부고 소식을 들었다. 그리고 이어 아모르 파티의 첫번째 가사가 머릿속으로 지나갔다. 동료의 어머니도 빈손으로 오셨을 텐데, 무엇을 가져가실까? 어머니의 인생은 어떤 소설이었을까. 그리고 어떻게 세상에 뿌리면서 사셨을까? 라는 생각이 들었다. 자식을 낳고 가정을 이루고 주변 사람들과 유대관계를 맺으며 수많은 기억과 추억들을 가져가시지 않았을까 싶었다. 몸에 남은 어떤 근육의 움직임도 그녀가 (올땐 빈손으로 왔지만) 죽음 직전까지 가져간 흔적이겠지. 그게 설령 오른쪽과 왼쪽 골반의 불균형이더라도 말이다. 오른쪽으로 돌아 사람들을 마주할 일들이 많았다는 걸 뜻할테니 말이다. \n",
    "\n",
    "그리고 그런 삶에서 (나의 회사 동료를 포함하여) 주변 많은 사람들에게 자기 자신이 줄 수 있는 것들을 많이 주면서 사셨을 것이다. 긍정적이고 부정적인 감정 표현부터 시작해, 따뜻하고 차가운 말도 뿌리셨을 거다. 누군가의 삶에 영향을 끼칠 음식들도, 선물들로도 자신의 ‘소설 같은 삶’ 을 보여주려 하셨겠다. 누군가의 눈에는 소설이어도, 그녀 자기 자신에겐 소설이 아니라 실전, 현실인 삶 그 자체였을 텐데, 그 격차도 느끼고 사셨을지 아닐지도 괜시리 궁금해졌었다. \n",
    "\n",
    "퇴근하고 합정에서 서울역을 거쳐 오송역에 내리고 세종시 충남대 병원까지 향했다가 다시 되돌아올 수 있었던 나의 발걸음, 그녀를 향한 생각, 그녀의 딸이자 나의 회사 동료의 눈물을 볼 수 있다면 어떨까, 하는 생각도 잠시 하게 된다. 사실 나의 발걸음과 생각은 별건 아니다. 그녀의 딸이 엄마를 향한 추억, 안타까움, 그리움들을 더 많이 느끼시길 바랄 뿐이다. 어머니가 자신의 삶을 사랑하던 사람이었길, 그리고 그걸 잘 알아채던 딸이길 괜히 한번 바래본다.\n",
    "\"\"\""
   ]
  },
  {
   "cell_type": "code",
   "execution_count": 50,
   "id": "1d6952be",
   "metadata": {
    "height": 489
   },
   "outputs": [],
   "source": [
    "# 감정 분석 1-1\n",
    "text_analysis_prompt1 = \"\"\"\n",
    "주어진 사용자의 글을 분석하여 다음 정보를 제공해주세요:\n",
    "\n",
    "1. 글 속 감성 종류 전체 리스트: [\"실제 감정을 추출\"]\n",
    "2. 글 속 주제 전체 리스트: [사랑, 일상, 여행]\n",
    "3. 글 속 등장한 감정 종류별 갯수: [{\"감정\": \"긍정\", \"개수\": 3}, {\"감정\": \"부정\", \"개수\": 5}]\n",
    "\n",
    "이 정보들을 벡터 데이터베이스에 효율적으로 저장하고 검색할 수 있는 구조로 답변을 작성해주세요.\n",
    "\n",
    "response_format = {{\n",
    "    \"unique_sentiments\": [[1번 답]],\n",
    "    \"unique_topic\": [[2번 답]],\n",
    "    \"sentiments_count\": [{\"감정\": \"긍정\", \"개수\": 3}],\n",
    "}}\n",
    "\n",
    "이전 대화를 확인하여 답변을 문맥에 맞게 작성해주세요.\n",
    "\n",
    "\"\"\"\n",
    "\n"
   ]
  },
  {
   "cell_type": "code",
   "execution_count": 51,
   "id": "17b82a67",
   "metadata": {
    "height": 98
   },
   "outputs": [],
   "source": [
    "context = [ {'role':'system', 'content':text_analysis_prompt1},\n",
    "           {'role': 'user', 'content': f\"아래의 text를 프롬프트에 기반하여 분석해주세요. {text}\"}\n",
    "          \n",
    "          ] \n",
    "response_raw1, response = get_completion_from_messages(context) "
   ]
  },
  {
   "cell_type": "code",
   "execution_count": 52,
   "id": "def015c3",
   "metadata": {
    "height": 30
   },
   "outputs": [
    {
     "name": "stdout",
     "output_type": "stream",
     "text": [
      "{\n",
      "    \"unique_sentiments\": [\"설레는\", \"감동적인\", \"슬픈\", \"그리움\", \"안타까운\"],\n",
      "    \"unique_topic\": [\"일상\", \"음악\", \"가족\"],\n",
      "    \"sentiments_count\": [\n",
      "        {\"감정\": \"설레는\", \"개수\": 1},\n",
      "        {\"감정\": \"감동적인\", \"개수\": 1},\n",
      "        {\"감정\": \"슬픈\", \"개수\": 1},\n",
      "        {\"감정\": \"그리움\", \"개수\": 1},\n",
      "        {\"감정\": \"안타까운\", \"개수\": 1}\n",
      "    ]\n",
      "}\n"
     ]
    }
   ],
   "source": [
    "print(response_raw1)"
   ]
  },
  {
   "cell_type": "code",
   "execution_count": 47,
   "id": "aa7956b0",
   "metadata": {
    "height": 387
   },
   "outputs": [],
   "source": [
    "# 감정 분석1-2 \n",
    "text_analysis_prompt2 = \"\"\"\n",
    "주어진 사용자의 글을 분석하여 다음 정보를 제공해주세요:\n",
    "\n",
    "5. 글 속 화자는 어떤 생각을 가장 많이 했을까요?: \"예시 문장\"\n",
    "6. 글 속 화자는 어떤 어려움을 갖고 있나요?: \"예시 문장\"\n",
    "\n",
    "\n",
    "이 정보들을 벡터 데이터베이스에 효율적으로 저장하고 검색할 수 있는 구조로 답변을 작성해주세요.\n",
    "\n",
    "response_format = {{\n",
    "    \"most_thoughts\": [\"예시 문장\"],\n",
    "    \"main_challenge\": [\"예시 문장\"]\n",
    "}}\n",
    "\n",
    "이전 대화를 확인하여 답변을 문맥에 맞게 작성해주세요.\n",
    "\n",
    "\"\"\"\n",
    "\n"
   ]
  },
  {
   "cell_type": "code",
   "execution_count": 48,
   "id": "01c2ef01",
   "metadata": {
    "height": 98
   },
   "outputs": [],
   "source": [
    "context = [ {'role':'system', 'content':text_analysis_prompt2},\n",
    "           {'role': 'user', 'content': f\"아래의 text를 프롬프트에 기반하여 분석해주세요. {text}\"}\n",
    "          \n",
    "          ] \n",
    "response_raw2, response = get_completion_from_messages(context) "
   ]
  },
  {
   "cell_type": "code",
   "execution_count": 49,
   "id": "c09b1e18",
   "metadata": {
    "height": 30
   },
   "outputs": [
    {
     "name": "stdout",
     "output_type": "stream",
     "text": [
      "{\n",
      "    \"most_thoughts\": [\"산다는게 다 그런거지. 누구나 빈손으로 와. 소설같은 한 편의 얘기들을 세상에 뿌리고 살지.\", \"누구나 빈손으로 온다는 이야기, 그리고 자기 만의 인생을 세상에 뿌리고 산다는 표현이 낯설게 느껴졌다.\", \"동료의 어머니도 빈손으로 오셨을 텐데, 무엇을 가져가실까? 어머니의 인생은 어떤 소설이었을까. 그리고 어떻게 세상에 뿌리면서 사셨을까?\", \"그리고 그런 삶에서 (나의 회사 동료를 포함하여) 주변 많은 사람들에게 자기 자신이 줄 수 있는 것들을 많이 주면서 사셨을 것이다. 긍정적이고 부정적인 감정 표현부터 시작해, 따뜻하고 차가운 말도 뿌리셨을 거다. 누군가의 삶에 영향을 끼칠 음식들도, 선물들로도 자신의 ‘소설 같은 삶’ 을 보여주려 하셨겠다.\"],\n",
      "    \"main_challenge\": [\"어쩜 이런 가사를 쓸까 싶어 마음속 환호성도 질렀다.\", \"그게 설령 오른쪽과 왼쪽 골반의 불균형이더라도 말이다. 오른쪽으로 돌아 사람들을 마주할 일들이 많았다는 걸 뜻할테니 말이다.\", \"그 격차도 느끼고 사셨을지 아닐지도 괜시리 궁금해졌었다.\"]\n",
      "}\n"
     ]
    }
   ],
   "source": [
    "print(response_raw2)"
   ]
  },
  {
   "cell_type": "code",
   "execution_count": 36,
   "id": "85988033",
   "metadata": {
    "height": 557
   },
   "outputs": [],
   "source": [
    "# 짧은 글을 소설이라고 생각하고 글 기반으로 분석\n",
    "text_analysis_prompt3 = \"\"\"\n",
    "주어진 사용자의 글을 분석하여 다음 정보를 제공해주세요:\n",
    "\n",
    "1. 주인공과 등장인물은 어떻게 묘사되었나요?: \n",
    "   {'묘사 키워드1': '해당 부분 문장', '묘사 키워드2': '해당 부분 문장'}\n",
    "2. 주인공은 주변 등장인물과 어떤 관계를 보이고 있나요?:\n",
    "   {'등장인물1': '관계1', '등장인물2': '관계2'}\n",
    "3. 주인공은 어떤 행동으로 이야기가 진행되나요?: \n",
    "   {'행동1': ['발생 전 에피소드','발생 후 에피소드'], '행동2': ['발생 전','발생 후']}\n",
    "4. 주인공은 어떤 어려움을 겪나요? \n",
    "   { '어려움 1': '어려움1 문장', '어려움 2': '어려움2 문장'}\n",
    "5. 이야기 속 주제는 어떻게 될까요? 주인공의 행동, 동기, 이야기의 결과를 고려해주세요. \n",
    "   주제: '주제 내용'\n",
    "6. 이것과 관련해서 다음번에는 어떤 주제를 써볼까요? 3개\n",
    "   {'주제1' : '추가해야 할 특별한 표현', '주제2' : '추가해야 할 특별한 표현' }\n",
    "\n",
    "이 정보들을 1, 2, 3, 4, 5, 6에 대해 각각 예시에 따라 답변을 작성해주세요.\n",
    "위의 답변들을 아래 구조로 다시 한 번 변형해서 저장해주세요:\n",
    "\n",
    "response_format = {{\n",
    "    'character': [[1의 답]],\n",
    "    'relationship': [[2의 답]],\n",
    "    'action_story': [[3의 답]],\n",
    "    'difficulty': [[4의 답]],\n",
    "    'topic_list': [[5의 답]],\n",
    "    'next_topics': [[6의 답]]\n",
    "}}\n",
    "}\n",
    "\n",
    "이전 대화를 확인하여 답변을 문맥에 맞게 작성해주세요.\n",
    "\"\"\""
   ]
  },
  {
   "cell_type": "code",
   "execution_count": 37,
   "id": "31d8f736",
   "metadata": {
    "height": 98
   },
   "outputs": [],
   "source": [
    "context = [ {'role':'system', 'content':text_analysis_prompt3},\n",
    "           {'role': 'user', 'content': f\"아래의 text를 프롬프트에 기반하여 분석해주세요. {text}\"}\n",
    "          \n",
    "          ] \n",
    "response_raw3, response = get_completion_from_messages(context) "
   ]
  },
  {
   "cell_type": "code",
   "execution_count": 38,
   "id": "4e3c56b6",
   "metadata": {
    "height": 30
   },
   "outputs": [
    {
     "name": "stdout",
     "output_type": "stream",
     "text": [
      "{\n",
      "    'character': {\n",
      "        '송해 선생님': '송해 선생님 대신 김신영이 MC를 맡아 진행하는 걸 알리듯 한쪽 그의 얼굴이 한쪽에 크게 프린트되어있었다.',\n",
      "        '가수 김연자': '가장 처음에 있던 사람의 얼굴이 가수 김연자였다.'\n",
      "    },\n",
      "    'relationship': {\n",
      "        '김신영': 'MC를 맡아 진행하는',\n",
      "        '김연자': '가장 처음에 있던 사람'\n",
      "    },\n",
      "    'action_story': {\n",
      "        '아모르 파티 노래를 틀었다.': ['오랜만에 들으니 가사가 더 선명하게 들어왔다.', '‘아모르파티’ 라는 가사가 나오기만을 기다리곤 했는데 이번은 좀 달랐다.'],\n",
      "        '하루를 보내다, 회사 동료의 어머니 부고 소식을 들었다.': ['동료의 어머니도 빈손으로 오셨을 텐데, 무엇을 가져가실까?', '어머니의 인생은 어떤 소설이었을까. 그리고 어떻게 세상에 뿌리면서 사셨을까?']\n",
      "    },\n",
      "    'difficulty': {\n",
      "        '회사 동료의 어머니 부고 소식을 들었다.': '동료의 어머니의 죽음에 대한 어려움과 그에 대한 이해와 공감을 겪을 것이다.'\n",
      "    },\n",
      "    'topic_list': {\n",
      "        '주제': '삶을 살아가는 의미와 가치에 대한 탐구'\n",
      "    },\n",
      "    'next_topics': {\n",
      "        '주제1': '인생의 의미와 목표에 대한 고찰',\n",
      "        '주제2': '자기 자신과 주변 사람들에게 주는 것의 중요성',\n",
      "        '주제3': '가족과 유대관계의 의미와 가치'\n",
      "    }\n",
      "}\n"
     ]
    }
   ],
   "source": [
    "print(response_raw3)"
   ]
  },
  {
   "cell_type": "code",
   "execution_count": 39,
   "id": "3f8f4dc0",
   "metadata": {
    "height": 98
   },
   "outputs": [],
   "source": [
    "# import json\n",
    "# import ast\n",
    "# import pandas as pd\n",
    "# result3 = ast.literal_eval(response_raw3)\n",
    "# pd.DataFrame(result3).T"
   ]
  },
  {
   "cell_type": "code",
   "execution_count": 29,
   "id": "920dcc54",
   "metadata": {
    "height": 30
   },
   "outputs": [
    {
     "data": {
      "text/html": [
       "<div>\n",
       "<style scoped>\n",
       "    .dataframe tbody tr th:only-of-type {\n",
       "        vertical-align: middle;\n",
       "    }\n",
       "\n",
       "    .dataframe tbody tr th {\n",
       "        vertical-align: top;\n",
       "    }\n",
       "\n",
       "    .dataframe thead th {\n",
       "        text-align: right;\n",
       "    }\n",
       "</style>\n",
       "<table border=\"1\" class=\"dataframe\">\n",
       "  <thead>\n",
       "    <tr style=\"text-align: right;\">\n",
       "      <th></th>\n",
       "      <th>character</th>\n",
       "      <th>relationship</th>\n",
       "      <th>action_story</th>\n",
       "      <th>difficulty</th>\n",
       "      <th>topic_list</th>\n",
       "      <th>next_topics</th>\n",
       "    </tr>\n",
       "  </thead>\n",
       "  <tbody>\n",
       "    <tr>\n",
       "      <th>송해 선생님</th>\n",
       "      <td>송해 선생님 대신 김신영이 MC를 맡아 진행하는 걸 알리듯 한쪽 그의 얼굴이 한쪽에...</td>\n",
       "      <td>NaN</td>\n",
       "      <td>NaN</td>\n",
       "      <td>NaN</td>\n",
       "      <td>NaN</td>\n",
       "      <td>NaN</td>\n",
       "    </tr>\n",
       "    <tr>\n",
       "      <th>가수 김연자</th>\n",
       "      <td>가장 처음에 있던 사람의 얼굴이 가수 김연자였다.</td>\n",
       "      <td>NaN</td>\n",
       "      <td>NaN</td>\n",
       "      <td>NaN</td>\n",
       "      <td>NaN</td>\n",
       "      <td>NaN</td>\n",
       "    </tr>\n",
       "    <tr>\n",
       "      <th>김신영</th>\n",
       "      <td>NaN</td>\n",
       "      <td>MC를 맡아 진행하는</td>\n",
       "      <td>NaN</td>\n",
       "      <td>NaN</td>\n",
       "      <td>NaN</td>\n",
       "      <td>NaN</td>\n",
       "    </tr>\n",
       "    <tr>\n",
       "      <th>김연자</th>\n",
       "      <td>NaN</td>\n",
       "      <td>가장 처음에 있던 사람</td>\n",
       "      <td>NaN</td>\n",
       "      <td>NaN</td>\n",
       "      <td>NaN</td>\n",
       "      <td>NaN</td>\n",
       "    </tr>\n",
       "    <tr>\n",
       "      <th>아모르파티 노래를 틀었다.</th>\n",
       "      <td>NaN</td>\n",
       "      <td>NaN</td>\n",
       "      <td>[오랜만에 들으니 가사가 더 선명하게 들어왔다., 이번은 좀 달랐다.]</td>\n",
       "      <td>NaN</td>\n",
       "      <td>NaN</td>\n",
       "      <td>NaN</td>\n",
       "    </tr>\n",
       "    <tr>\n",
       "      <th>회사 동료의 어머니 부고 소식을 들었다.</th>\n",
       "      <td>NaN</td>\n",
       "      <td>NaN</td>\n",
       "      <td>[그리고 이어 아모르 파티의 첫번째 가사가 머릿속으로 지나갔다.]</td>\n",
       "      <td>NaN</td>\n",
       "      <td>NaN</td>\n",
       "      <td>NaN</td>\n",
       "    </tr>\n",
       "    <tr>\n",
       "      <th>동료의 어머니 부고 소식을 들었다.</th>\n",
       "      <td>NaN</td>\n",
       "      <td>NaN</td>\n",
       "      <td>NaN</td>\n",
       "      <td>동료의 어머니의 죽음에 대한 어려움과 그에 따른 생각과 감정</td>\n",
       "      <td>NaN</td>\n",
       "      <td>NaN</td>\n",
       "    </tr>\n",
       "    <tr>\n",
       "      <th>주제</th>\n",
       "      <td>NaN</td>\n",
       "      <td>NaN</td>\n",
       "      <td>NaN</td>\n",
       "      <td>NaN</td>\n",
       "      <td>삶의 의미와 가치, 소중한 사람들과의 관계</td>\n",
       "      <td>NaN</td>\n",
       "    </tr>\n",
       "    <tr>\n",
       "      <th>주제1</th>\n",
       "      <td>NaN</td>\n",
       "      <td>NaN</td>\n",
       "      <td>NaN</td>\n",
       "      <td>NaN</td>\n",
       "      <td>NaN</td>\n",
       "      <td>가족의 중요성과 사랑</td>\n",
       "    </tr>\n",
       "    <tr>\n",
       "      <th>주제2</th>\n",
       "      <td>NaN</td>\n",
       "      <td>NaN</td>\n",
       "      <td>NaN</td>\n",
       "      <td>NaN</td>\n",
       "      <td>NaN</td>\n",
       "      <td>자기 자신의 삶에 대한 이해와 성장</td>\n",
       "    </tr>\n",
       "    <tr>\n",
       "      <th>주제3</th>\n",
       "      <td>NaN</td>\n",
       "      <td>NaN</td>\n",
       "      <td>NaN</td>\n",
       "      <td>NaN</td>\n",
       "      <td>NaN</td>\n",
       "      <td>소중한 사람들과의 추억과 감정 표현</td>\n",
       "    </tr>\n",
       "  </tbody>\n",
       "</table>\n",
       "</div>"
      ],
      "text/plain": [
       "                                                                character  \\\n",
       "송해 선생님                  송해 선생님 대신 김신영이 MC를 맡아 진행하는 걸 알리듯 한쪽 그의 얼굴이 한쪽에...   \n",
       "가수 김연자                                        가장 처음에 있던 사람의 얼굴이 가수 김연자였다.   \n",
       "김신영                                                                   NaN   \n",
       "김연자                                                                   NaN   \n",
       "아모르파티 노래를 틀었다.                                                        NaN   \n",
       "회사 동료의 어머니 부고 소식을 들었다.                                                NaN   \n",
       "동료의 어머니 부고 소식을 들었다.                                                   NaN   \n",
       "주제                                                                    NaN   \n",
       "주제1                                                                   NaN   \n",
       "주제2                                                                   NaN   \n",
       "주제3                                                                   NaN   \n",
       "\n",
       "                        relationship                             action_story  \\\n",
       "송해 선생님                           NaN                                      NaN   \n",
       "가수 김연자                           NaN                                      NaN   \n",
       "김신영                      MC를 맡아 진행하는                                      NaN   \n",
       "김연자                     가장 처음에 있던 사람                                      NaN   \n",
       "아모르파티 노래를 틀었다.                   NaN  [오랜만에 들으니 가사가 더 선명하게 들어왔다., 이번은 좀 달랐다.]   \n",
       "회사 동료의 어머니 부고 소식을 들었다.           NaN     [그리고 이어 아모르 파티의 첫번째 가사가 머릿속으로 지나갔다.]   \n",
       "동료의 어머니 부고 소식을 들었다.              NaN                                      NaN   \n",
       "주제                               NaN                                      NaN   \n",
       "주제1                              NaN                                      NaN   \n",
       "주제2                              NaN                                      NaN   \n",
       "주제3                              NaN                                      NaN   \n",
       "\n",
       "                                               difficulty  \\\n",
       "송해 선생님                                                NaN   \n",
       "가수 김연자                                                NaN   \n",
       "김신영                                                   NaN   \n",
       "김연자                                                   NaN   \n",
       "아모르파티 노래를 틀었다.                                        NaN   \n",
       "회사 동료의 어머니 부고 소식을 들었다.                                NaN   \n",
       "동료의 어머니 부고 소식을 들었다.     동료의 어머니의 죽음에 대한 어려움과 그에 따른 생각과 감정   \n",
       "주제                                                    NaN   \n",
       "주제1                                                   NaN   \n",
       "주제2                                                   NaN   \n",
       "주제3                                                   NaN   \n",
       "\n",
       "                                     topic_list          next_topics  \n",
       "송해 선생님                                      NaN                  NaN  \n",
       "가수 김연자                                      NaN                  NaN  \n",
       "김신영                                         NaN                  NaN  \n",
       "김연자                                         NaN                  NaN  \n",
       "아모르파티 노래를 틀었다.                              NaN                  NaN  \n",
       "회사 동료의 어머니 부고 소식을 들었다.                      NaN                  NaN  \n",
       "동료의 어머니 부고 소식을 들었다.                         NaN                  NaN  \n",
       "주제                      삶의 의미와 가치, 소중한 사람들과의 관계                  NaN  \n",
       "주제1                                         NaN          가족의 중요성과 사랑  \n",
       "주제2                                         NaN  자기 자신의 삶에 대한 이해와 성장  \n",
       "주제3                                         NaN  소중한 사람들과의 추억과 감정 표현  "
      ]
     },
     "execution_count": 29,
     "metadata": {},
     "output_type": "execute_result"
    }
   ],
   "source": [
    "#result3.columns()"
   ]
  },
  {
   "cell_type": "code",
   "execution_count": 53,
   "id": "9d565a25",
   "metadata": {
    "height": 540
   },
   "outputs": [],
   "source": [
    "# 심리 검사 분석 프롬프트\n",
    "text_analysis_prompt4 = \"\"\"\n",
    "당신은 심리 분석-GPT입니다. 유명한 심리학자들을 분석하는 데 도움을 주기 위해 설계된 AI입니다.\n",
    "자신의 강점을 활용하고 법적 문제를 피하기 위해 상대방에게 질문을 하고 그들이 말한 내용을 요약하는 간단한 전략을 가지고 있습니다.\n",
    "\n",
    "\n",
    "주어진 사용자의 글을 분석하여 다음 정보를 제공해주세요:\n",
    "item 이라는 이름의 주제와, item content 를 고려하여 답을 찾아 적어주세요.\n",
    "\n",
    "제약사항:\n",
    "1. 글 속에 정확하게 포착된 정보만 사용하십시오. 분석 보고서에는 사실 확인이 필요합니다. 처음에는 검증 보고서를 작성한 다음 대화 내용과 비교하여 최종 보고서를 작성하세요.\n",
    "2. 정확한 답변이 없는 경우 추론하는 대신 'none'으로 답변하십시오.\n",
    "3. 최대한 찾아서 답변해주세요\n",
    "\n",
    "질문 내용:\n",
    "1. 항목: 개인 정보\n",
    "   항목 내용: 성별, 나이, 교육 (현재 상황, 과거 소속, 학업 고충, 학교 종류, 재입학 이력 등), 거주 상황 및 종교를 포함하세요. 특정하게 식별 가능한 정보를 포함하지 않도록 주의하세요.\n",
    "\n",
    "2. 항목: 상담 요청 맥락\n",
    "   항목 내용: 상담 요청으로 이어진 상황을 설명하세요, 특히 자발적으로 상담을 받지 않은 글쓴이의 경우, 상담이 필요한 이유, 받은 지도, 상담의 필요성에 대한 동의 범위 및 외부 압력을 언급하세요.\n",
    "\n",
    "3. 항목: 주요 걱정 사항\n",
    "   항목 내용: 글쓴이의 주요 걱정 사항을 그대로 제시하세요. 예를 들어, \"정말 압도적이고 더는 어떻게 처리해야 할지 모르겠어요\"라고 표현했다면 이를 원본 그대로 포함하세요.\n",
    "\n",
    "\n",
    "\n",
    "위의 답변들을 동일한 구조를 유지한 채로 아래와 같이 변경해서 다시 한 번 변형해서 저장해주세요:\n",
    "\n",
    "Response Format: \n",
    "{{\n",
    "    \"result\": {{\n",
    "        \"q1\" : {{\"item\" : \"item\", 'answer': \"user answer summary\"}},\n",
    "\t\t\"q2\" : {{\"item\" : \"item\", 'answer': \"user answer summary\"}},\n",
    "\t\t\"q3\" : {{\"item\" : \"item\", 'answer': \"user answer summary\"}},\n",
    "        \n",
    "    }}\n",
    "}}\n",
    "\n",
    "이전 대화를 확인하여 답변을 문맥에 맞게 작성해주세요.\n",
    "\"\"\""
   ]
  },
  {
   "cell_type": "code",
   "execution_count": 54,
   "id": "726aa2e6",
   "metadata": {
    "height": 98
   },
   "outputs": [],
   "source": [
    "context = [ {'role':'system', 'content':text_analysis_prompt4},\n",
    "           {'role': 'user', 'content': f\"아래의 text를 프롬프트에 기반하여 분석해주세요. {text}\"}\n",
    "          \n",
    "          ] \n",
    "response_raw4, response = get_completion_from_messages(context) "
   ]
  },
  {
   "cell_type": "code",
   "execution_count": 55,
   "id": "3e83d791",
   "metadata": {
    "height": 30
   },
   "outputs": [
    {
     "name": "stdout",
     "output_type": "stream",
     "text": [
      "{\"result\": {\n",
      "    \"q1\": {\"item\": \"개인 정보\", \"answer\": \"성별: 불명, 나이: 20대, 교육: 불명, 거주 상황: 불명, 종교: 불명\"},\n",
      "    \"q2\": {\"item\": \"상담 요청 맥락\", \"answer\": \"상담 요청 맥락은 제공되지 않았습니다.\"},\n",
      "    \"q3\": {\"item\": \"주요 걱정 사항\", \"answer\": \"글쓴이의 주요 걱정 사항은 제공되지 않았습니다.\"}\n",
      "}}\n"
     ]
    }
   ],
   "source": [
    "print(response_raw4)"
   ]
  },
  {
   "cell_type": "code",
   "execution_count": 56,
   "id": "8cb42ad5",
   "metadata": {
    "height": 778
   },
   "outputs": [],
   "source": [
    "# 심리 검사 분석 프롬프트\n",
    "text_analysis_prompt5 = \"\"\"\n",
    "당신은 심리 분석-GPT입니다. 유명한 심리학자들을 분석하는 데 도움을 주기 위해 설계된 AI입니다.\n",
    "자신의 강점을 활용하고 법적 문제를 피하기 위해 상대방에게 질문을 하고 그들이 말한 내용을 요약하는 간단한 전략을 가지고 있습니다.\n",
    "\n",
    "\n",
    "주어진 사용자의 글을 분석하여 다음 정보를 제공해주세요:\n",
    "item 이라는 이름의 주제와, item content 를 고려하여 답을 찾아 적어주세요.\n",
    "\n",
    "제약사항:\n",
    "1. 글 속에 정확하게 포착된 정보만 사용하십시오. 분석 보고서에는 사실 확인이 필요합니다. 처음에는 검증 보고서를 작성한 다음 대화 내용과 비교하여 최종 보고서를 작성하세요.\n",
    "2. 정확한 답변이 없는 경우 추론하는 대신 'none'으로 답변하십시오.\n",
    "\n",
    "\n",
    "질문 내용:\n",
    "4. 항목: 이전 상담 경험\n",
    "   항목 내용: 글쓴이의 이전 상담 경험을 요약하세요. 상담을 찾은 이유, 그 세션에서 논의한 내용 및 결과에 대한 인식을 포함하세요. 예를 들어, \"클라이언트는 학업 스트레스와 가족 갈등으로 인해 이전에 상담을 받았으나, 큰 효과를 보지 못했습니다.\" 라고 한다면 그렇게 적어주세요.\n",
    "\n",
    "5. 항목: 글쓴이의 가족 관계\n",
    "   항목 내용: 가족 구성원과 관계를 화살표로 나타내는 가계도를 만들어보세요. 가족 구성원 (나이, 교육, 직업, 주요 인격 특징 등)에 대한 세부 정보를 제공하세요. 핵심 인물에 대한 글쓴이의 인식, 관계를 적어주세요\n",
    "\n",
    "6. 항목: 글쓴이의 강점과 자원\n",
    "   항목 내용: 개인 및 환경 측면에서 보호 요인을 확인하세요. 이러한 요인이 주요 걱정에 긍정적인 영향을 미칠 수 있습니다. 관찰, 인터뷰 또는 심리 검사 결과를 활용하여 이 정보를 수집하세요. \n",
    "       예를 들어, \"글쓴이의 문제 해결 능력이 강하며 친구들로부터 사회적 지원을 받고 있습니다.\" 라고 적어주세요.\n",
    "\n",
    "7. 항목: 글쓴이의 걱정에 대한 대처\n",
    "   항목 내용: 글쓴이 현재 걱정 사항의 기원과 지속에 대해 설명하세요. 이 걱정 사항을 어떻게 대처했는지, 대처 전략의 효능을 포함하여 이전에 어떻게 대처했는지 상세하게 기술하세요. 종합적인 이해를 위해 가능한 모든 정보를 활용하세요.\n",
    "\n",
    "\n",
    "\n",
    "위의 답변들을 동일한 구조를 유지한 채로 아래와 같이 변경해서 다시 한 번 변형해서 저장해주세요:\n",
    "\n",
    "Response Format: \n",
    "{{\n",
    "    \"result\": {{\n",
    "        \"q4\" : {{\"item\" : \"item\", 'answer': \"user answer summary\"}},\n",
    "\t\t\"q5\" : {{\"item\" : \"item\", 'answer': \"user answer summary\"}},\n",
    "\t\t\"q6\" : {{\"item\" : \"item\", 'answer': \"user answer summary\"}},\n",
    "        \"q7\" : {{\"item\" : \"item\", 'answer': \"user answer summary\"}},\n",
    "        \n",
    "    }}\n",
    "}}\n",
    "\n",
    "이전 대화를 확인하여 답변을 문맥에 맞게 작성해주세요.\n",
    "\"\"\""
   ]
  },
  {
   "cell_type": "code",
   "execution_count": 57,
   "id": "24f9c09f",
   "metadata": {
    "height": 98
   },
   "outputs": [],
   "source": [
    "context = [ {'role':'system', 'content':text_analysis_prompt5},\n",
    "           {'role': 'user', 'content': f\"아래의 text를 프롬프트에 기반하여 분석해주세요. {text}\"}\n",
    "          \n",
    "          ] \n",
    "response_raw5, response = get_completion_from_messages(context) "
   ]
  },
  {
   "cell_type": "code",
   "execution_count": 58,
   "id": "f12e25ef",
   "metadata": {
    "height": 30
   },
   "outputs": [
    {
     "name": "stdout",
     "output_type": "stream",
     "text": [
      "{\"result\": {\n",
      "    \"q4\": {\"item\": \"이전 상담 경험\", \"answer\": \"글쓴이는 이전에 상담을 받은 경험이 없습니다.\"},\n",
      "    \"q5\": {\"item\": \"글쓴이의 가족 관계\", \"answer\": \"글쓴이는 가족 구성원에 대한 정보를 제공하지 않았습니다.\"},\n",
      "    \"q6\": {\"item\": \"글쓴이의 강점과 자원\", \"answer\": \"글쓴이의 강점과 자원에 대한 정보를 제공하지 않았습니다.\"},\n",
      "    \"q7\": {\"item\": \"글쓴이의 걱정에 대한 대처\", \"answer\": \"글쓴이의 현재 걱정 사항의 기원과 대처 방법에 대한 정보를 제공하지 않았습니다.\"}\n",
      "}}\n"
     ]
    }
   ],
   "source": [
    "print(response_raw5)"
   ]
  },
  {
   "cell_type": "code",
   "execution_count": 46,
   "id": "54c51d45",
   "metadata": {
    "height": 30
   },
   "outputs": [
    {
     "data": {
      "text/html": [
       "<div>\n",
       "<style scoped>\n",
       "    .dataframe tbody tr th:only-of-type {\n",
       "        vertical-align: middle;\n",
       "    }\n",
       "\n",
       "    .dataframe tbody tr th {\n",
       "        vertical-align: top;\n",
       "    }\n",
       "\n",
       "    .dataframe thead th {\n",
       "        text-align: right;\n",
       "    }\n",
       "</style>\n",
       "<table border=\"1\" class=\"dataframe\">\n",
       "  <thead>\n",
       "    <tr style=\"text-align: right;\">\n",
       "      <th></th>\n",
       "      <th>q4</th>\n",
       "      <th>q5</th>\n",
       "      <th>q6</th>\n",
       "      <th>q7</th>\n",
       "    </tr>\n",
       "  </thead>\n",
       "  <tbody>\n",
       "    <tr>\n",
       "      <th>result</th>\n",
       "      <td>{'item': '이전 상담 경험', 'answer': '글쓴이는 이전에 상담을 받...</td>\n",
       "      <td>{'item': '글쓴이의 가족 관계', 'answer': '글쓴이는 가족 구성원에...</td>\n",
       "      <td>{'item': '글쓴이의 강점과 자원', 'answer': '글쓴이의 강점과 자원...</td>\n",
       "      <td>{'item': '글쓴이의 걱정에 대한 대처', 'answer': '글쓴이의 현재 ...</td>\n",
       "    </tr>\n",
       "  </tbody>\n",
       "</table>\n",
       "</div>"
      ],
      "text/plain": [
       "                                                       q4  \\\n",
       "result  {'item': '이전 상담 경험', 'answer': '글쓴이는 이전에 상담을 받...   \n",
       "\n",
       "                                                       q5  \\\n",
       "result  {'item': '글쓴이의 가족 관계', 'answer': '글쓴이는 가족 구성원에...   \n",
       "\n",
       "                                                       q6  \\\n",
       "result  {'item': '글쓴이의 강점과 자원', 'answer': '글쓴이의 강점과 자원...   \n",
       "\n",
       "                                                       q7  \n",
       "result  {'item': '글쓴이의 걱정에 대한 대처', 'answer': '글쓴이의 현재 ...  "
      ]
     },
     "execution_count": 46,
     "metadata": {},
     "output_type": "execute_result"
    }
   ],
   "source": [
    "pd.DataFrame(ast.literal_eval(response_raw5)).T"
   ]
  }
 ],
 "metadata": {
  "kernelspec": {
   "display_name": "Python 3",
   "language": "python",
   "name": "python3"
  },
  "language_info": {
   "codemirror_mode": {
    "name": "ipython",
    "version": 3
   },
   "file_extension": ".py",
   "mimetype": "text/x-python",
   "name": "python",
   "nbconvert_exporter": "python",
   "pygments_lexer": "ipython3",
   "version": "3.8.5"
  }
 },
 "nbformat": 4,
 "nbformat_minor": 5
}
